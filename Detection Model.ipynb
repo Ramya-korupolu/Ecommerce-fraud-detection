{
 "cells": [
  {
   "cell_type": "markdown",
   "id": "0033e8f8",
   "metadata": {},
   "source": [
    "## detecting fraudulent transactions"
   ]
  },
  {
   "cell_type": "code",
   "execution_count": 1,
   "id": "8fd0525c",
   "metadata": {},
   "outputs": [],
   "source": [
    "import pandas as pd\n",
    "import matplotlib.pyplot as plt\n",
    "%matplotlib inline\n",
    "import seaborn as sns"
   ]
  },
  {
   "cell_type": "code",
   "execution_count": 2,
   "id": "9f8042f8",
   "metadata": {},
   "outputs": [],
   "source": [
    "tran_details = pd.read_csv('cust_transaction_details.csv')\n",
    "customer_details = pd.read_csv('Customer_DF.csv')"
   ]
  },
  {
   "cell_type": "markdown",
   "id": "3d9d4344",
   "metadata": {},
   "source": [
    "## Analysing The Data"
   ]
  },
  {
   "cell_type": "code",
   "execution_count": 3,
   "id": "0f9da043",
   "metadata": {},
   "outputs": [
    {
     "data": {
      "text/html": [
       "<div>\n",
       "<style scoped>\n",
       "    .dataframe tbody tr th:only-of-type {\n",
       "        vertical-align: middle;\n",
       "    }\n",
       "\n",
       "    .dataframe tbody tr th {\n",
       "        vertical-align: top;\n",
       "    }\n",
       "\n",
       "    .dataframe thead th {\n",
       "        text-align: right;\n",
       "    }\n",
       "</style>\n",
       "<table border=\"1\" class=\"dataframe\">\n",
       "  <thead>\n",
       "    <tr style=\"text-align: right;\">\n",
       "      <th></th>\n",
       "      <th>Unnamed: 0</th>\n",
       "      <th>customerEmail</th>\n",
       "      <th>transactionId</th>\n",
       "      <th>orderId</th>\n",
       "      <th>paymentMethodId</th>\n",
       "      <th>paymentMethodRegistrationFailure</th>\n",
       "      <th>paymentMethodType</th>\n",
       "      <th>paymentMethodProvider</th>\n",
       "      <th>transactionAmount</th>\n",
       "      <th>transactionFailed</th>\n",
       "      <th>orderState</th>\n",
       "    </tr>\n",
       "  </thead>\n",
       "  <tbody>\n",
       "    <tr>\n",
       "      <th>0</th>\n",
       "      <td>0</td>\n",
       "      <td>josephhoward@yahoo.com</td>\n",
       "      <td>a9lcj51r</td>\n",
       "      <td>vjbdvd</td>\n",
       "      <td>wt07xm68b</td>\n",
       "      <td>1</td>\n",
       "      <td>card</td>\n",
       "      <td>JCB 16 digit</td>\n",
       "      <td>18</td>\n",
       "      <td>0</td>\n",
       "      <td>pending</td>\n",
       "    </tr>\n",
       "    <tr>\n",
       "      <th>1</th>\n",
       "      <td>1</td>\n",
       "      <td>josephhoward@yahoo.com</td>\n",
       "      <td>y4wcv03i</td>\n",
       "      <td>yp6x27</td>\n",
       "      <td>wt07xm68b</td>\n",
       "      <td>1</td>\n",
       "      <td>card</td>\n",
       "      <td>JCB 16 digit</td>\n",
       "      <td>26</td>\n",
       "      <td>0</td>\n",
       "      <td>fulfilled</td>\n",
       "    </tr>\n",
       "    <tr>\n",
       "      <th>2</th>\n",
       "      <td>2</td>\n",
       "      <td>evansjeffery@yahoo.com</td>\n",
       "      <td>5mi94sfw</td>\n",
       "      <td>nlghpa</td>\n",
       "      <td>41ug157xz</td>\n",
       "      <td>0</td>\n",
       "      <td>bitcoin</td>\n",
       "      <td>American Express</td>\n",
       "      <td>45</td>\n",
       "      <td>0</td>\n",
       "      <td>fulfilled</td>\n",
       "    </tr>\n",
       "    <tr>\n",
       "      <th>3</th>\n",
       "      <td>3</td>\n",
       "      <td>evansjeffery@yahoo.com</td>\n",
       "      <td>br8ba1nu</td>\n",
       "      <td>uw0eeb</td>\n",
       "      <td>41ug157xz</td>\n",
       "      <td>0</td>\n",
       "      <td>bitcoin</td>\n",
       "      <td>American Express</td>\n",
       "      <td>23</td>\n",
       "      <td>0</td>\n",
       "      <td>fulfilled</td>\n",
       "    </tr>\n",
       "    <tr>\n",
       "      <th>4</th>\n",
       "      <td>4</td>\n",
       "      <td>evansjeffery@yahoo.com</td>\n",
       "      <td>a33145ss</td>\n",
       "      <td>bn44oh</td>\n",
       "      <td>y3xp697jx</td>\n",
       "      <td>1</td>\n",
       "      <td>bitcoin</td>\n",
       "      <td>VISA 16 digit</td>\n",
       "      <td>43</td>\n",
       "      <td>1</td>\n",
       "      <td>fulfilled</td>\n",
       "    </tr>\n",
       "  </tbody>\n",
       "</table>\n",
       "</div>"
      ],
      "text/plain": [
       "   Unnamed: 0           customerEmail transactionId orderId paymentMethodId   \n",
       "0           0  josephhoward@yahoo.com      a9lcj51r  vjbdvd       wt07xm68b  \\\n",
       "1           1  josephhoward@yahoo.com      y4wcv03i  yp6x27       wt07xm68b   \n",
       "2           2  evansjeffery@yahoo.com      5mi94sfw  nlghpa       41ug157xz   \n",
       "3           3  evansjeffery@yahoo.com      br8ba1nu  uw0eeb       41ug157xz   \n",
       "4           4  evansjeffery@yahoo.com      a33145ss  bn44oh       y3xp697jx   \n",
       "\n",
       "   paymentMethodRegistrationFailure paymentMethodType paymentMethodProvider   \n",
       "0                                 1              card          JCB 16 digit  \\\n",
       "1                                 1              card          JCB 16 digit   \n",
       "2                                 0           bitcoin      American Express   \n",
       "3                                 0           bitcoin      American Express   \n",
       "4                                 1           bitcoin         VISA 16 digit   \n",
       "\n",
       "   transactionAmount  transactionFailed orderState  \n",
       "0                 18                  0    pending  \n",
       "1                 26                  0  fulfilled  \n",
       "2                 45                  0  fulfilled  \n",
       "3                 23                  0  fulfilled  \n",
       "4                 43                  1  fulfilled  "
      ]
     },
     "execution_count": 3,
     "metadata": {},
     "output_type": "execute_result"
    }
   ],
   "source": [
    "tran_details.head()"
   ]
  },
  {
   "cell_type": "code",
   "execution_count": 4,
   "id": "df07244d",
   "metadata": {},
   "outputs": [
    {
     "data": {
      "text/html": [
       "<div>\n",
       "<style scoped>\n",
       "    .dataframe tbody tr th:only-of-type {\n",
       "        vertical-align: middle;\n",
       "    }\n",
       "\n",
       "    .dataframe tbody tr th {\n",
       "        vertical-align: top;\n",
       "    }\n",
       "\n",
       "    .dataframe thead th {\n",
       "        text-align: right;\n",
       "    }\n",
       "</style>\n",
       "<table border=\"1\" class=\"dataframe\">\n",
       "  <thead>\n",
       "    <tr style=\"text-align: right;\">\n",
       "      <th></th>\n",
       "      <th>Unnamed: 0</th>\n",
       "      <th>customerEmail</th>\n",
       "      <th>customerPhone</th>\n",
       "      <th>customerDevice</th>\n",
       "      <th>customerIPAddress</th>\n",
       "      <th>customerBillingAddress</th>\n",
       "      <th>No_Transactions</th>\n",
       "      <th>No_Orders</th>\n",
       "      <th>No_Payments</th>\n",
       "      <th>Fraud</th>\n",
       "    </tr>\n",
       "  </thead>\n",
       "  <tbody>\n",
       "    <tr>\n",
       "      <th>0</th>\n",
       "      <td>0</td>\n",
       "      <td>josephhoward@yahoo.com</td>\n",
       "      <td>400-108-5415</td>\n",
       "      <td>yyeiaxpltf82440jnb3v</td>\n",
       "      <td>8.129.104.40</td>\n",
       "      <td>5493 Jones Islands\\nBrownside, CA 51896</td>\n",
       "      <td>2</td>\n",
       "      <td>2</td>\n",
       "      <td>1</td>\n",
       "      <td>False</td>\n",
       "    </tr>\n",
       "    <tr>\n",
       "      <th>1</th>\n",
       "      <td>1</td>\n",
       "      <td>evansjeffery@yahoo.com</td>\n",
       "      <td>1-788-091-7546</td>\n",
       "      <td>r0jpm7xaeqqa3kr6mzum</td>\n",
       "      <td>219.173.211.202</td>\n",
       "      <td>356 Elizabeth Inlet Suite 120\\nPort Joshuabury...</td>\n",
       "      <td>3</td>\n",
       "      <td>3</td>\n",
       "      <td>7</td>\n",
       "      <td>True</td>\n",
       "    </tr>\n",
       "    <tr>\n",
       "      <th>2</th>\n",
       "      <td>2</td>\n",
       "      <td>andersonwilliam@yahoo.com</td>\n",
       "      <td>024.420.0375</td>\n",
       "      <td>4m7h5ipl1shyavt6vv2r</td>\n",
       "      <td>67b7:3db8:67e0:3bea:b9d0:90c1:2b60:b9f0</td>\n",
       "      <td>8478 Sean Ridges Apt. 441\\nDavisberg, PR 72250</td>\n",
       "      <td>5</td>\n",
       "      <td>3</td>\n",
       "      <td>2</td>\n",
       "      <td>False</td>\n",
       "    </tr>\n",
       "    <tr>\n",
       "      <th>3</th>\n",
       "      <td>3</td>\n",
       "      <td>rubenjuarez@yahoo.com</td>\n",
       "      <td>670.664.8168x94985</td>\n",
       "      <td>slovx60t0i558may4ks0</td>\n",
       "      <td>95de:8565:5a66:792c:26e0:6cfb:7d87:11af</td>\n",
       "      <td>7769 Elizabeth Bridge Apt. 343\\nNortonstad, FM...</td>\n",
       "      <td>3</td>\n",
       "      <td>3</td>\n",
       "      <td>1</td>\n",
       "      <td>False</td>\n",
       "    </tr>\n",
       "    <tr>\n",
       "      <th>4</th>\n",
       "      <td>4</td>\n",
       "      <td>uchen@malone.com</td>\n",
       "      <td>1-981-877-0870</td>\n",
       "      <td>j0pd24k5h8dl2fqu0cz4</td>\n",
       "      <td>196.89.235.192</td>\n",
       "      <td>148 Russell Lodge Apt. 445\\nPort Jenniferside,...</td>\n",
       "      <td>7</td>\n",
       "      <td>7</td>\n",
       "      <td>6</td>\n",
       "      <td>True</td>\n",
       "    </tr>\n",
       "  </tbody>\n",
       "</table>\n",
       "</div>"
      ],
      "text/plain": [
       "   Unnamed: 0              customerEmail       customerPhone   \n",
       "0           0     josephhoward@yahoo.com        400-108-5415  \\\n",
       "1           1     evansjeffery@yahoo.com      1-788-091-7546   \n",
       "2           2  andersonwilliam@yahoo.com        024.420.0375   \n",
       "3           3      rubenjuarez@yahoo.com  670.664.8168x94985   \n",
       "4           4           uchen@malone.com      1-981-877-0870   \n",
       "\n",
       "         customerDevice                        customerIPAddress   \n",
       "0  yyeiaxpltf82440jnb3v                             8.129.104.40  \\\n",
       "1  r0jpm7xaeqqa3kr6mzum                          219.173.211.202   \n",
       "2  4m7h5ipl1shyavt6vv2r  67b7:3db8:67e0:3bea:b9d0:90c1:2b60:b9f0   \n",
       "3  slovx60t0i558may4ks0  95de:8565:5a66:792c:26e0:6cfb:7d87:11af   \n",
       "4  j0pd24k5h8dl2fqu0cz4                           196.89.235.192   \n",
       "\n",
       "                              customerBillingAddress  No_Transactions   \n",
       "0            5493 Jones Islands\\nBrownside, CA 51896                2  \\\n",
       "1  356 Elizabeth Inlet Suite 120\\nPort Joshuabury...                3   \n",
       "2     8478 Sean Ridges Apt. 441\\nDavisberg, PR 72250                5   \n",
       "3  7769 Elizabeth Bridge Apt. 343\\nNortonstad, FM...                3   \n",
       "4  148 Russell Lodge Apt. 445\\nPort Jenniferside,...                7   \n",
       "\n",
       "   No_Orders  No_Payments  Fraud  \n",
       "0          2            1  False  \n",
       "1          3            7   True  \n",
       "2          3            2  False  \n",
       "3          3            1  False  \n",
       "4          7            6   True  "
      ]
     },
     "execution_count": 4,
     "metadata": {},
     "output_type": "execute_result"
    }
   ],
   "source": [
    "customer_details.head()"
   ]
  },
  {
   "cell_type": "code",
   "execution_count": 5,
   "id": "58142559",
   "metadata": {},
   "outputs": [
    {
     "data": {
      "text/plain": [
       "(623, 11)"
      ]
     },
     "execution_count": 5,
     "metadata": {},
     "output_type": "execute_result"
    }
   ],
   "source": [
    "tran_details.shape"
   ]
  },
  {
   "cell_type": "code",
   "execution_count": 6,
   "id": "415bc697",
   "metadata": {},
   "outputs": [
    {
     "data": {
      "text/plain": [
       "Index(['Unnamed: 0', 'customerEmail', 'transactionId', 'orderId',\n",
       "       'paymentMethodId', 'paymentMethodRegistrationFailure',\n",
       "       'paymentMethodType', 'paymentMethodProvider', 'transactionAmount',\n",
       "       'transactionFailed', 'orderState'],\n",
       "      dtype='object')"
      ]
     },
     "execution_count": 6,
     "metadata": {},
     "output_type": "execute_result"
    }
   ],
   "source": [
    "tran_details.columns"
   ]
  },
  {
   "cell_type": "code",
   "execution_count": 7,
   "id": "3dd9e529",
   "metadata": {},
   "outputs": [
    {
     "data": {
      "text/plain": [
       "(168, 10)"
      ]
     },
     "execution_count": 7,
     "metadata": {},
     "output_type": "execute_result"
    }
   ],
   "source": [
    "customer_details.shape"
   ]
  },
  {
   "cell_type": "code",
   "execution_count": 8,
   "id": "3a3aa56a",
   "metadata": {},
   "outputs": [
    {
     "data": {
      "text/plain": [
       "Index(['Unnamed: 0', 'customerEmail', 'customerPhone', 'customerDevice',\n",
       "       'customerIPAddress', 'customerBillingAddress', 'No_Transactions',\n",
       "       'No_Orders', 'No_Payments', 'Fraud'],\n",
       "      dtype='object')"
      ]
     },
     "execution_count": 8,
     "metadata": {},
     "output_type": "execute_result"
    }
   ],
   "source": [
    "customer_details.columns"
   ]
  },
  {
   "cell_type": "code",
   "execution_count": 9,
   "id": "3d257a56",
   "metadata": {},
   "outputs": [
    {
     "name": "stdout",
     "output_type": "stream",
     "text": [
      "<class 'pandas.core.frame.DataFrame'>\n",
      "RangeIndex: 623 entries, 0 to 622\n",
      "Data columns (total 11 columns):\n",
      " #   Column                            Non-Null Count  Dtype \n",
      "---  ------                            --------------  ----- \n",
      " 0   Unnamed: 0                        623 non-null    int64 \n",
      " 1   customerEmail                     623 non-null    object\n",
      " 2   transactionId                     623 non-null    object\n",
      " 3   orderId                           623 non-null    object\n",
      " 4   paymentMethodId                   623 non-null    object\n",
      " 5   paymentMethodRegistrationFailure  623 non-null    int64 \n",
      " 6   paymentMethodType                 623 non-null    object\n",
      " 7   paymentMethodProvider             623 non-null    object\n",
      " 8   transactionAmount                 623 non-null    int64 \n",
      " 9   transactionFailed                 623 non-null    int64 \n",
      " 10  orderState                        623 non-null    object\n",
      "dtypes: int64(4), object(7)\n",
      "memory usage: 53.7+ KB\n"
     ]
    }
   ],
   "source": [
    "tran_details.info()"
   ]
  },
  {
   "cell_type": "code",
   "execution_count": 10,
   "id": "f1bb9393",
   "metadata": {},
   "outputs": [
    {
     "name": "stdout",
     "output_type": "stream",
     "text": [
      "<class 'pandas.core.frame.DataFrame'>\n",
      "RangeIndex: 168 entries, 0 to 167\n",
      "Data columns (total 10 columns):\n",
      " #   Column                  Non-Null Count  Dtype \n",
      "---  ------                  --------------  ----- \n",
      " 0   Unnamed: 0              168 non-null    int64 \n",
      " 1   customerEmail           168 non-null    object\n",
      " 2   customerPhone           168 non-null    object\n",
      " 3   customerDevice          168 non-null    object\n",
      " 4   customerIPAddress       168 non-null    object\n",
      " 5   customerBillingAddress  168 non-null    object\n",
      " 6   No_Transactions         168 non-null    int64 \n",
      " 7   No_Orders               168 non-null    int64 \n",
      " 8   No_Payments             168 non-null    int64 \n",
      " 9   Fraud                   168 non-null    bool  \n",
      "dtypes: bool(1), int64(4), object(5)\n",
      "memory usage: 12.1+ KB\n"
     ]
    }
   ],
   "source": [
    "customer_details.info()"
   ]
  },
  {
   "cell_type": "code",
   "execution_count": 11,
   "id": "c9b10ca1",
   "metadata": {},
   "outputs": [
    {
     "data": {
      "text/html": [
       "<div>\n",
       "<style scoped>\n",
       "    .dataframe tbody tr th:only-of-type {\n",
       "        vertical-align: middle;\n",
       "    }\n",
       "\n",
       "    .dataframe tbody tr th {\n",
       "        vertical-align: top;\n",
       "    }\n",
       "\n",
       "    .dataframe thead th {\n",
       "        text-align: right;\n",
       "    }\n",
       "</style>\n",
       "<table border=\"1\" class=\"dataframe\">\n",
       "  <thead>\n",
       "    <tr style=\"text-align: right;\">\n",
       "      <th></th>\n",
       "      <th>Unnamed: 0</th>\n",
       "      <th>paymentMethodRegistrationFailure</th>\n",
       "      <th>transactionAmount</th>\n",
       "      <th>transactionFailed</th>\n",
       "    </tr>\n",
       "  </thead>\n",
       "  <tbody>\n",
       "    <tr>\n",
       "      <th>count</th>\n",
       "      <td>623.000000</td>\n",
       "      <td>623.000000</td>\n",
       "      <td>623.000000</td>\n",
       "      <td>623.000000</td>\n",
       "    </tr>\n",
       "    <tr>\n",
       "      <th>mean</th>\n",
       "      <td>311.000000</td>\n",
       "      <td>0.131621</td>\n",
       "      <td>34.598716</td>\n",
       "      <td>0.269663</td>\n",
       "    </tr>\n",
       "    <tr>\n",
       "      <th>std</th>\n",
       "      <td>179.988889</td>\n",
       "      <td>0.338350</td>\n",
       "      <td>20.360247</td>\n",
       "      <td>0.444141</td>\n",
       "    </tr>\n",
       "    <tr>\n",
       "      <th>min</th>\n",
       "      <td>0.000000</td>\n",
       "      <td>0.000000</td>\n",
       "      <td>10.000000</td>\n",
       "      <td>0.000000</td>\n",
       "    </tr>\n",
       "    <tr>\n",
       "      <th>25%</th>\n",
       "      <td>155.500000</td>\n",
       "      <td>0.000000</td>\n",
       "      <td>21.000000</td>\n",
       "      <td>0.000000</td>\n",
       "    </tr>\n",
       "    <tr>\n",
       "      <th>50%</th>\n",
       "      <td>311.000000</td>\n",
       "      <td>0.000000</td>\n",
       "      <td>34.000000</td>\n",
       "      <td>0.000000</td>\n",
       "    </tr>\n",
       "    <tr>\n",
       "      <th>75%</th>\n",
       "      <td>466.500000</td>\n",
       "      <td>0.000000</td>\n",
       "      <td>45.000000</td>\n",
       "      <td>1.000000</td>\n",
       "    </tr>\n",
       "    <tr>\n",
       "      <th>max</th>\n",
       "      <td>622.000000</td>\n",
       "      <td>1.000000</td>\n",
       "      <td>353.000000</td>\n",
       "      <td>1.000000</td>\n",
       "    </tr>\n",
       "  </tbody>\n",
       "</table>\n",
       "</div>"
      ],
      "text/plain": [
       "       Unnamed: 0  paymentMethodRegistrationFailure  transactionAmount   \n",
       "count  623.000000                        623.000000         623.000000  \\\n",
       "mean   311.000000                          0.131621          34.598716   \n",
       "std    179.988889                          0.338350          20.360247   \n",
       "min      0.000000                          0.000000          10.000000   \n",
       "25%    155.500000                          0.000000          21.000000   \n",
       "50%    311.000000                          0.000000          34.000000   \n",
       "75%    466.500000                          0.000000          45.000000   \n",
       "max    622.000000                          1.000000         353.000000   \n",
       "\n",
       "       transactionFailed  \n",
       "count         623.000000  \n",
       "mean            0.269663  \n",
       "std             0.444141  \n",
       "min             0.000000  \n",
       "25%             0.000000  \n",
       "50%             0.000000  \n",
       "75%             1.000000  \n",
       "max             1.000000  "
      ]
     },
     "execution_count": 11,
     "metadata": {},
     "output_type": "execute_result"
    }
   ],
   "source": [
    "tran_details.describe()"
   ]
  },
  {
   "cell_type": "code",
   "execution_count": 12,
   "id": "609c11ef",
   "metadata": {},
   "outputs": [
    {
     "data": {
      "text/html": [
       "<div>\n",
       "<style scoped>\n",
       "    .dataframe tbody tr th:only-of-type {\n",
       "        vertical-align: middle;\n",
       "    }\n",
       "\n",
       "    .dataframe tbody tr th {\n",
       "        vertical-align: top;\n",
       "    }\n",
       "\n",
       "    .dataframe thead th {\n",
       "        text-align: right;\n",
       "    }\n",
       "</style>\n",
       "<table border=\"1\" class=\"dataframe\">\n",
       "  <thead>\n",
       "    <tr style=\"text-align: right;\">\n",
       "      <th></th>\n",
       "      <th>Unnamed: 0</th>\n",
       "      <th>No_Transactions</th>\n",
       "      <th>No_Orders</th>\n",
       "      <th>No_Payments</th>\n",
       "    </tr>\n",
       "  </thead>\n",
       "  <tbody>\n",
       "    <tr>\n",
       "      <th>count</th>\n",
       "      <td>168.000000</td>\n",
       "      <td>168.000000</td>\n",
       "      <td>168.000000</td>\n",
       "      <td>168.000000</td>\n",
       "    </tr>\n",
       "    <tr>\n",
       "      <th>mean</th>\n",
       "      <td>83.500000</td>\n",
       "      <td>3.708333</td>\n",
       "      <td>2.845238</td>\n",
       "      <td>2.035714</td>\n",
       "    </tr>\n",
       "    <tr>\n",
       "      <th>std</th>\n",
       "      <td>48.641546</td>\n",
       "      <td>2.801527</td>\n",
       "      <td>1.981919</td>\n",
       "      <td>2.113240</td>\n",
       "    </tr>\n",
       "    <tr>\n",
       "      <th>min</th>\n",
       "      <td>0.000000</td>\n",
       "      <td>0.000000</td>\n",
       "      <td>0.000000</td>\n",
       "      <td>0.000000</td>\n",
       "    </tr>\n",
       "    <tr>\n",
       "      <th>25%</th>\n",
       "      <td>41.750000</td>\n",
       "      <td>1.000000</td>\n",
       "      <td>1.000000</td>\n",
       "      <td>1.000000</td>\n",
       "    </tr>\n",
       "    <tr>\n",
       "      <th>50%</th>\n",
       "      <td>83.500000</td>\n",
       "      <td>4.000000</td>\n",
       "      <td>3.000000</td>\n",
       "      <td>1.000000</td>\n",
       "    </tr>\n",
       "    <tr>\n",
       "      <th>75%</th>\n",
       "      <td>125.250000</td>\n",
       "      <td>5.000000</td>\n",
       "      <td>4.000000</td>\n",
       "      <td>2.000000</td>\n",
       "    </tr>\n",
       "    <tr>\n",
       "      <th>max</th>\n",
       "      <td>167.000000</td>\n",
       "      <td>15.000000</td>\n",
       "      <td>8.000000</td>\n",
       "      <td>15.000000</td>\n",
       "    </tr>\n",
       "  </tbody>\n",
       "</table>\n",
       "</div>"
      ],
      "text/plain": [
       "       Unnamed: 0  No_Transactions   No_Orders  No_Payments\n",
       "count  168.000000       168.000000  168.000000   168.000000\n",
       "mean    83.500000         3.708333    2.845238     2.035714\n",
       "std     48.641546         2.801527    1.981919     2.113240\n",
       "min      0.000000         0.000000    0.000000     0.000000\n",
       "25%     41.750000         1.000000    1.000000     1.000000\n",
       "50%     83.500000         4.000000    3.000000     1.000000\n",
       "75%    125.250000         5.000000    4.000000     2.000000\n",
       "max    167.000000        15.000000    8.000000    15.000000"
      ]
     },
     "execution_count": 12,
     "metadata": {},
     "output_type": "execute_result"
    }
   ],
   "source": [
    "customer_details.describe()"
   ]
  },
  {
   "cell_type": "markdown",
   "id": "44543640",
   "metadata": {},
   "source": [
    "## Data Preprocessing"
   ]
  },
  {
   "cell_type": "code",
   "execution_count": 13,
   "id": "f59a9502",
   "metadata": {},
   "outputs": [
    {
     "name": "stdout",
     "output_type": "stream",
     "text": [
      "Unnamed: 0                          0\n",
      "customerEmail                       0\n",
      "transactionId                       0\n",
      "orderId                             0\n",
      "paymentMethodId                     0\n",
      "paymentMethodRegistrationFailure    0\n",
      "paymentMethodType                   0\n",
      "paymentMethodProvider               0\n",
      "transactionAmount                   0\n",
      "transactionFailed                   0\n",
      "orderState                          0\n",
      "dtype: int64\n"
     ]
    }
   ],
   "source": [
    "missing_values_trans = tran_details.isnull().sum()\n",
    "print(missing_values_trans)"
   ]
  },
  {
   "cell_type": "code",
   "execution_count": 14,
   "id": "8f62036c",
   "metadata": {},
   "outputs": [
    {
     "name": "stdout",
     "output_type": "stream",
     "text": [
      "Unnamed: 0                0\n",
      "customerEmail             0\n",
      "customerPhone             0\n",
      "customerDevice            0\n",
      "customerIPAddress         0\n",
      "customerBillingAddress    0\n",
      "No_Transactions           0\n",
      "No_Orders                 0\n",
      "No_Payments               0\n",
      "Fraud                     0\n",
      "dtype: int64\n"
     ]
    }
   ],
   "source": [
    "missing_values_cust = customer_details.isnull().sum()\n",
    "print(missing_values_cust)"
   ]
  },
  {
   "cell_type": "markdown",
   "id": "8ff97a1b",
   "metadata": {},
   "source": [
    "NO MISSING VALUES FOUND"
   ]
  },
  {
   "cell_type": "code",
   "execution_count": 15,
   "id": "a1e57d08",
   "metadata": {},
   "outputs": [
    {
     "name": "stdout",
     "output_type": "stream",
     "text": [
      "Empty DataFrame\n",
      "Columns: [Unnamed: 0, customerEmail, transactionId, orderId, paymentMethodId, paymentMethodRegistrationFailure, paymentMethodType, paymentMethodProvider, transactionAmount, transactionFailed, orderState]\n",
      "Index: []\n"
     ]
    }
   ],
   "source": [
    "duplicate_transactions = tran_details[tran_details.duplicated()]\n",
    "print(duplicate_transactions)"
   ]
  },
  {
   "cell_type": "code",
   "execution_count": 16,
   "id": "759f7166",
   "metadata": {},
   "outputs": [
    {
     "name": "stdout",
     "output_type": "stream",
     "text": [
      "Empty DataFrame\n",
      "Columns: [Unnamed: 0, customerEmail, customerPhone, customerDevice, customerIPAddress, customerBillingAddress, No_Transactions, No_Orders, No_Payments, Fraud]\n",
      "Index: []\n"
     ]
    }
   ],
   "source": [
    "duplicate_cust_details = customer_details[customer_details.duplicated()]\n",
    "print(duplicate_cust_details)"
   ]
  },
  {
   "cell_type": "markdown",
   "id": "fefa0e84",
   "metadata": {},
   "source": [
    "NO DUPLICATES VALUES FOUND"
   ]
  },
  {
   "cell_type": "markdown",
   "id": "6dabc46b",
   "metadata": {},
   "source": [
    "## Feature Engineering"
   ]
  },
  {
   "cell_type": "code",
   "execution_count": 17,
   "id": "0e7918f8",
   "metadata": {},
   "outputs": [
    {
     "data": {
      "text/plain": [
       "paymentMethodRegistrationFailure\n",
       "0    541\n",
       "1     82\n",
       "Name: count, dtype: int64"
      ]
     },
     "execution_count": 17,
     "metadata": {},
     "output_type": "execute_result"
    }
   ],
   "source": [
    "tran_details['paymentMethodRegistrationFailure'].value_counts()"
   ]
  },
  {
   "cell_type": "code",
   "execution_count": 26,
   "id": "d60d4ca9",
   "metadata": {},
   "outputs": [
    {
     "data": {
      "text/plain": [
       "transactionFailed\n",
       "0    455\n",
       "1    168\n",
       "Name: count, dtype: int64"
      ]
     },
     "execution_count": 26,
     "metadata": {},
     "output_type": "execute_result"
    }
   ],
   "source": [
    "tran_details['transactionFailed'].value_counts()"
   ]
  },
  {
   "cell_type": "markdown",
   "id": "c3886ebd",
   "metadata": {},
   "source": [
    "there are so many transactions are failed. \n",
    "\n",
    "Let's see which type payment methos is more likely to fail"
   ]
  },
  {
   "cell_type": "code",
   "execution_count": 27,
   "id": "bdc14a1a",
   "metadata": {},
   "outputs": [],
   "source": [
    "# tran_details[['paymentMethodRegistrationFailure', 'transactionFailed']]"
   ]
  },
  {
   "cell_type": "code",
   "execution_count": 28,
   "id": "e36b3639",
   "metadata": {
    "scrolled": true
   },
   "outputs": [
    {
     "data": {
      "image/png": "[encoded data removed]",
      "text/plain": [
       "<Figure size 576x288 with 1 Axes>"
      ]
     },
     "metadata": {
      "needs_background": "light"
     },
     "output_type": "display_data"
    }
   ],
   "source": [
    "plt.figure(figsize=(8,4))\n",
    "sns.countplot(x = 'paymentMethodType', hue = 'transactionFailed', data = tran_details)\n",
    "plt.tight_layout()"
   ]
  },
  {
   "cell_type": "markdown",
   "id": "29f6f707",
   "metadata": {},
   "source": [
    "maximum payments were made using cards had most transaction failures."
   ]
  },
  {
   "cell_type": "code",
   "execution_count": 30,
   "id": "b2ea7125",
   "metadata": {},
   "outputs": [
    {
     "data": {
      "image/png": "[encoded data removed]",
      "text/plain": [
       "<Figure size 1008x288 with 1 Axes>"
      ]
     },
     "metadata": {
      "needs_background": "light"
     },
     "output_type": "display_data"
    }
   ],
   "source": [
    "plt.figure(figsize=(14,4))\n",
    "sns.countplot(x = 'paymentMethodProvider', hue = 'transactionFailed', data = tran_details)\n",
    "plt.tight_layout()"
   ]
  },
  {
   "cell_type": "code",
   "execution_count": 33,
   "id": "40a55060",
   "metadata": {},
   "outputs": [
    {
     "data": {
      "image/png": "[encoded data removed]",
      "text/plain": [
       "<Figure size 1008x288 with 1 Axes>"
      ]
     },
     "metadata": {
      "needs_background": "light"
     },
     "output_type": "display_data"
    }
   ],
   "source": [
    "plt.figure(figsize=(14,4))\n",
    "sns.countplot(x = 'paymentMethodProvider', hue = 'paymentMethodRegistrationFailure', data = tran_details)\n",
    "plt.tight_layout()"
   ]
  },
  {
   "cell_type": "markdown",
   "id": "a8edf06f",
   "metadata": {},
   "source": [
    "maximum payments were made using 'JCB 16 digit'and 'VISA 16 digit' had most registration failures."
   ]
  },
  {
   "cell_type": "code",
   "execution_count": 36,
   "id": "7c992412",
   "metadata": {},
   "outputs": [
    {
     "data": {
      "image/png": "[encoded data removed]",
      "text/plain": [
       "<Figure size 576x288 with 1 Axes>"
      ]
     },
     "metadata": {
      "needs_background": "light"
     },
     "output_type": "display_data"
    }
   ],
   "source": [
    "plt.figure(figsize=(8,4))\n",
    "sns.countplot(x = 'No_Payments', hue = 'Fraud', data = customer_details)\n",
    "plt.tight_layout()"
   ]
  },
  {
   "cell_type": "markdown",
   "id": "ea1f64f2",
   "metadata": {},
   "source": [
    "From this we can see that if the no. of payments is greaten than 5 then the customer is definitely a fraud."
   ]
  },
  {
   "cell_type": "code",
   "execution_count": null,
   "id": "39818422",
   "metadata": {},
   "outputs": [],
   "source": []
  }
 ],
 "metadata": {
  "kernelspec": {
   "display_name": "Python 3 (ipykernel)",
   "language": "python",
   "name": "python3"
  },
  "language_info": {
   "codemirror_mode": {
    "name": "ipython",
    "version": 3
   },
   "file_extension": ".py",
   "mimetype": "text/x-python",
   "name": "python",
   "nbconvert_exporter": "python",
   "pygments_lexer": "ipython3",
   "version": "3.10.4"
  }
 },
 "nbformat": 4,
 "nbformat_minor": 5
}
